{
  "nbformat": 4,
  "nbformat_minor": 0,
  "metadata": {
    "colab": {
      "provenance": []
    },
    "kernelspec": {
      "name": "python3",
      "display_name": "Python 3"
    },
    "language_info": {
      "name": "python"
    }
  },
  "cells": [
    {
      "cell_type": "code",
      "execution_count": 2,
      "metadata": {
        "id": "lB4Bk8UEjx9g"
      },
      "outputs": [],
      "source": [
        "import pandas as pd"
      ]
    },
    {
      "cell_type": "code",
      "source": [
        "df=pd.read_csv('/content/Articles.csv')"
      ],
      "metadata": {
        "id": "r4Fk6usdaaGC"
      },
      "execution_count": 3,
      "outputs": []
    },
    {
      "cell_type": "code",
      "source": [
        "df.head()"
      ],
      "metadata": {
        "colab": {
          "base_uri": "https://localhost:8080/",
          "height": 206
        },
        "id": "gATSOHrvcbMt",
        "outputId": "d7a4c764-b196-41bc-89d4-7aa92fa1456a"
      },
      "execution_count": 4,
      "outputs": [
        {
          "output_type": "execute_result",
          "data": {
            "text/plain": [
              "        Date published  Category    Section  \\\n",
              "0  2021-07-15 02:46:59      news      world   \n",
              "1  2021-05-12 07:52:09      news      world   \n",
              "2  2021-06-16 02:51:30      news       asia   \n",
              "3  2022-03-15 09:57:36  business  investing   \n",
              "4  2022-03-15 11:27:02  business   business   \n",
              "\n",
              "                                            Headline  \\\n",
              "0  There's a shortage of truckers, but TuSimple t...   \n",
              "1  Bioservo's robotic 'Ironhand' could protect fa...   \n",
              "2  This swarm of robots gets smarter the more it ...   \n",
              "3  Russia is no longer an option for investors. T...   \n",
              "4  Russian energy investment ban part of new EU s...   \n",
              "\n",
              "                                         Description  \\\n",
              "0  The e-commerce boom has exacerbated a global t...   \n",
              "1  Working in a factory can mean doing the same t...   \n",
              "2  In a Hong Kong warehouse, a swarm of autonomou...   \n",
              "3  For many years, the world's most popular emerg...   \n",
              "4  The European Union formally approved on Tuesda...   \n",
              "\n",
              "                                            Keywords  \\\n",
              "0  world, There's a shortage of truckers, but TuS...   \n",
              "1  world, Bioservo's robotic 'Ironhand' could pro...   \n",
              "2  asia, This swarm of robots gets smarter the mo...   \n",
              "3  investing, Russia is no longer an option for i...   \n",
              "4  business, Russian energy investment ban part o...   \n",
              "\n",
              "                                        Article text  \n",
              "0   (CNN)Right now, there's a shortage of truck d...  \n",
              "1   (CNN)Working in a factory or warehouse can me...  \n",
              "2   (CNN)In a Hong Kong warehouse, a swarm of aut...  \n",
              "3  New York (CNN Business)For many years, the wor...  \n",
              "4  The European Union formally approved on Tuesda...  "
            ],
            "text/html": [
              "\n",
              "  <div id=\"df-e8cc559c-4c8b-4860-8e23-40364f998932\" class=\"colab-df-container\">\n",
              "    <div>\n",
              "<style scoped>\n",
              "    .dataframe tbody tr th:only-of-type {\n",
              "        vertical-align: middle;\n",
              "    }\n",
              "\n",
              "    .dataframe tbody tr th {\n",
              "        vertical-align: top;\n",
              "    }\n",
              "\n",
              "    .dataframe thead th {\n",
              "        text-align: right;\n",
              "    }\n",
              "</style>\n",
              "<table border=\"1\" class=\"dataframe\">\n",
              "  <thead>\n",
              "    <tr style=\"text-align: right;\">\n",
              "      <th></th>\n",
              "      <th>Date published</th>\n",
              "      <th>Category</th>\n",
              "      <th>Section</th>\n",
              "      <th>Headline</th>\n",
              "      <th>Description</th>\n",
              "      <th>Keywords</th>\n",
              "      <th>Article text</th>\n",
              "    </tr>\n",
              "  </thead>\n",
              "  <tbody>\n",
              "    <tr>\n",
              "      <th>0</th>\n",
              "      <td>2021-07-15 02:46:59</td>\n",
              "      <td>news</td>\n",
              "      <td>world</td>\n",
              "      <td>There's a shortage of truckers, but TuSimple t...</td>\n",
              "      <td>The e-commerce boom has exacerbated a global t...</td>\n",
              "      <td>world, There's a shortage of truckers, but TuS...</td>\n",
              "      <td>(CNN)Right now, there's a shortage of truck d...</td>\n",
              "    </tr>\n",
              "    <tr>\n",
              "      <th>1</th>\n",
              "      <td>2021-05-12 07:52:09</td>\n",
              "      <td>news</td>\n",
              "      <td>world</td>\n",
              "      <td>Bioservo's robotic 'Ironhand' could protect fa...</td>\n",
              "      <td>Working in a factory can mean doing the same t...</td>\n",
              "      <td>world, Bioservo's robotic 'Ironhand' could pro...</td>\n",
              "      <td>(CNN)Working in a factory or warehouse can me...</td>\n",
              "    </tr>\n",
              "    <tr>\n",
              "      <th>2</th>\n",
              "      <td>2021-06-16 02:51:30</td>\n",
              "      <td>news</td>\n",
              "      <td>asia</td>\n",
              "      <td>This swarm of robots gets smarter the more it ...</td>\n",
              "      <td>In a Hong Kong warehouse, a swarm of autonomou...</td>\n",
              "      <td>asia, This swarm of robots gets smarter the mo...</td>\n",
              "      <td>(CNN)In a Hong Kong warehouse, a swarm of aut...</td>\n",
              "    </tr>\n",
              "    <tr>\n",
              "      <th>3</th>\n",
              "      <td>2022-03-15 09:57:36</td>\n",
              "      <td>business</td>\n",
              "      <td>investing</td>\n",
              "      <td>Russia is no longer an option for investors. T...</td>\n",
              "      <td>For many years, the world's most popular emerg...</td>\n",
              "      <td>investing, Russia is no longer an option for i...</td>\n",
              "      <td>New York (CNN Business)For many years, the wor...</td>\n",
              "    </tr>\n",
              "    <tr>\n",
              "      <th>4</th>\n",
              "      <td>2022-03-15 11:27:02</td>\n",
              "      <td>business</td>\n",
              "      <td>business</td>\n",
              "      <td>Russian energy investment ban part of new EU s...</td>\n",
              "      <td>The European Union formally approved on Tuesda...</td>\n",
              "      <td>business, Russian energy investment ban part o...</td>\n",
              "      <td>The European Union formally approved on Tuesda...</td>\n",
              "    </tr>\n",
              "  </tbody>\n",
              "</table>\n",
              "</div>\n",
              "    <div class=\"colab-df-buttons\">\n",
              "\n",
              "  <div class=\"colab-df-container\">\n",
              "    <button class=\"colab-df-convert\" onclick=\"convertToInteractive('df-e8cc559c-4c8b-4860-8e23-40364f998932')\"\n",
              "            title=\"Convert this dataframe to an interactive table.\"\n",
              "            style=\"display:none;\">\n",
              "\n",
              "  <svg xmlns=\"http://www.w3.org/2000/svg\" height=\"24px\" viewBox=\"0 -960 960 960\">\n",
              "    <path d=\"M120-120v-720h720v720H120Zm60-500h600v-160H180v160Zm220 220h160v-160H400v160Zm0 220h160v-160H400v160ZM180-400h160v-160H180v160Zm440 0h160v-160H620v160ZM180-180h160v-160H180v160Zm440 0h160v-160H620v160Z\"/>\n",
              "  </svg>\n",
              "    </button>\n",
              "\n",
              "  <style>\n",
              "    .colab-df-container {\n",
              "      display:flex;\n",
              "      gap: 12px;\n",
              "    }\n",
              "\n",
              "    .colab-df-convert {\n",
              "      background-color: #E8F0FE;\n",
              "      border: none;\n",
              "      border-radius: 50%;\n",
              "      cursor: pointer;\n",
              "      display: none;\n",
              "      fill: #1967D2;\n",
              "      height: 32px;\n",
              "      padding: 0 0 0 0;\n",
              "      width: 32px;\n",
              "    }\n",
              "\n",
              "    .colab-df-convert:hover {\n",
              "      background-color: #E2EBFA;\n",
              "      box-shadow: 0px 1px 2px rgba(60, 64, 67, 0.3), 0px 1px 3px 1px rgba(60, 64, 67, 0.15);\n",
              "      fill: #174EA6;\n",
              "    }\n",
              "\n",
              "    .colab-df-buttons div {\n",
              "      margin-bottom: 4px;\n",
              "    }\n",
              "\n",
              "    [theme=dark] .colab-df-convert {\n",
              "      background-color: #3B4455;\n",
              "      fill: #D2E3FC;\n",
              "    }\n",
              "\n",
              "    [theme=dark] .colab-df-convert:hover {\n",
              "      background-color: #434B5C;\n",
              "      box-shadow: 0px 1px 3px 1px rgba(0, 0, 0, 0.15);\n",
              "      filter: drop-shadow(0px 1px 2px rgba(0, 0, 0, 0.3));\n",
              "      fill: #FFFFFF;\n",
              "    }\n",
              "  </style>\n",
              "\n",
              "    <script>\n",
              "      const buttonEl =\n",
              "        document.querySelector('#df-e8cc559c-4c8b-4860-8e23-40364f998932 button.colab-df-convert');\n",
              "      buttonEl.style.display =\n",
              "        google.colab.kernel.accessAllowed ? 'block' : 'none';\n",
              "\n",
              "      async function convertToInteractive(key) {\n",
              "        const element = document.querySelector('#df-e8cc559c-4c8b-4860-8e23-40364f998932');\n",
              "        const dataTable =\n",
              "          await google.colab.kernel.invokeFunction('convertToInteractive',\n",
              "                                                    [key], {});\n",
              "        if (!dataTable) return;\n",
              "\n",
              "        const docLinkHtml = 'Like what you see? Visit the ' +\n",
              "          '<a target=\"_blank\" href=https://colab.research.google.com/notebooks/data_table.ipynb>data table notebook</a>'\n",
              "          + ' to learn more about interactive tables.';\n",
              "        element.innerHTML = '';\n",
              "        dataTable['output_type'] = 'display_data';\n",
              "        await google.colab.output.renderOutput(dataTable, element);\n",
              "        const docLink = document.createElement('div');\n",
              "        docLink.innerHTML = docLinkHtml;\n",
              "        element.appendChild(docLink);\n",
              "      }\n",
              "    </script>\n",
              "  </div>\n",
              "\n",
              "\n",
              "    <div id=\"df-0ba621df-e413-4c1d-bba5-4ec498fe2722\">\n",
              "      <button class=\"colab-df-quickchart\" onclick=\"quickchart('df-0ba621df-e413-4c1d-bba5-4ec498fe2722')\"\n",
              "                title=\"Suggest charts\"\n",
              "                style=\"display:none;\">\n",
              "\n",
              "<svg xmlns=\"http://www.w3.org/2000/svg\" height=\"24px\"viewBox=\"0 0 24 24\"\n",
              "     width=\"24px\">\n",
              "    <g>\n",
              "        <path d=\"M19 3H5c-1.1 0-2 .9-2 2v14c0 1.1.9 2 2 2h14c1.1 0 2-.9 2-2V5c0-1.1-.9-2-2-2zM9 17H7v-7h2v7zm4 0h-2V7h2v10zm4 0h-2v-4h2v4z\"/>\n",
              "    </g>\n",
              "</svg>\n",
              "      </button>\n",
              "\n",
              "<style>\n",
              "  .colab-df-quickchart {\n",
              "      --bg-color: #E8F0FE;\n",
              "      --fill-color: #1967D2;\n",
              "      --hover-bg-color: #E2EBFA;\n",
              "      --hover-fill-color: #174EA6;\n",
              "      --disabled-fill-color: #AAA;\n",
              "      --disabled-bg-color: #DDD;\n",
              "  }\n",
              "\n",
              "  [theme=dark] .colab-df-quickchart {\n",
              "      --bg-color: #3B4455;\n",
              "      --fill-color: #D2E3FC;\n",
              "      --hover-bg-color: #434B5C;\n",
              "      --hover-fill-color: #FFFFFF;\n",
              "      --disabled-bg-color: #3B4455;\n",
              "      --disabled-fill-color: #666;\n",
              "  }\n",
              "\n",
              "  .colab-df-quickchart {\n",
              "    background-color: var(--bg-color);\n",
              "    border: none;\n",
              "    border-radius: 50%;\n",
              "    cursor: pointer;\n",
              "    display: none;\n",
              "    fill: var(--fill-color);\n",
              "    height: 32px;\n",
              "    padding: 0;\n",
              "    width: 32px;\n",
              "  }\n",
              "\n",
              "  .colab-df-quickchart:hover {\n",
              "    background-color: var(--hover-bg-color);\n",
              "    box-shadow: 0 1px 2px rgba(60, 64, 67, 0.3), 0 1px 3px 1px rgba(60, 64, 67, 0.15);\n",
              "    fill: var(--button-hover-fill-color);\n",
              "  }\n",
              "\n",
              "  .colab-df-quickchart-complete:disabled,\n",
              "  .colab-df-quickchart-complete:disabled:hover {\n",
              "    background-color: var(--disabled-bg-color);\n",
              "    fill: var(--disabled-fill-color);\n",
              "    box-shadow: none;\n",
              "  }\n",
              "\n",
              "  .colab-df-spinner {\n",
              "    border: 2px solid var(--fill-color);\n",
              "    border-color: transparent;\n",
              "    border-bottom-color: var(--fill-color);\n",
              "    animation:\n",
              "      spin 1s steps(1) infinite;\n",
              "  }\n",
              "\n",
              "  @keyframes spin {\n",
              "    0% {\n",
              "      border-color: transparent;\n",
              "      border-bottom-color: var(--fill-color);\n",
              "      border-left-color: var(--fill-color);\n",
              "    }\n",
              "    20% {\n",
              "      border-color: transparent;\n",
              "      border-left-color: var(--fill-color);\n",
              "      border-top-color: var(--fill-color);\n",
              "    }\n",
              "    30% {\n",
              "      border-color: transparent;\n",
              "      border-left-color: var(--fill-color);\n",
              "      border-top-color: var(--fill-color);\n",
              "      border-right-color: var(--fill-color);\n",
              "    }\n",
              "    40% {\n",
              "      border-color: transparent;\n",
              "      border-right-color: var(--fill-color);\n",
              "      border-top-color: var(--fill-color);\n",
              "    }\n",
              "    60% {\n",
              "      border-color: transparent;\n",
              "      border-right-color: var(--fill-color);\n",
              "    }\n",
              "    80% {\n",
              "      border-color: transparent;\n",
              "      border-right-color: var(--fill-color);\n",
              "      border-bottom-color: var(--fill-color);\n",
              "    }\n",
              "    90% {\n",
              "      border-color: transparent;\n",
              "      border-bottom-color: var(--fill-color);\n",
              "    }\n",
              "  }\n",
              "</style>\n",
              "\n",
              "      <script>\n",
              "        async function quickchart(key) {\n",
              "          const quickchartButtonEl =\n",
              "            document.querySelector('#' + key + ' button');\n",
              "          quickchartButtonEl.disabled = true;  // To prevent multiple clicks.\n",
              "          quickchartButtonEl.classList.add('colab-df-spinner');\n",
              "          try {\n",
              "            const charts = await google.colab.kernel.invokeFunction(\n",
              "                'suggestCharts', [key], {});\n",
              "          } catch (error) {\n",
              "            console.error('Error during call to suggestCharts:', error);\n",
              "          }\n",
              "          quickchartButtonEl.classList.remove('colab-df-spinner');\n",
              "          quickchartButtonEl.classList.add('colab-df-quickchart-complete');\n",
              "        }\n",
              "        (() => {\n",
              "          let quickchartButtonEl =\n",
              "            document.querySelector('#df-0ba621df-e413-4c1d-bba5-4ec498fe2722 button');\n",
              "          quickchartButtonEl.style.display =\n",
              "            google.colab.kernel.accessAllowed ? 'block' : 'none';\n",
              "        })();\n",
              "      </script>\n",
              "    </div>\n",
              "\n",
              "    </div>\n",
              "  </div>\n"
            ],
            "application/vnd.google.colaboratory.intrinsic+json": {
              "type": "dataframe",
              "variable_name": "df",
              "summary": "{\n  \"name\": \"df\",\n  \"rows\": 4076,\n  \"fields\": [\n    {\n      \"column\": \"Date published\",\n      \"properties\": {\n        \"dtype\": \"object\",\n        \"num_unique_values\": 4076,\n        \"samples\": [\n          \"2021-05-27 01:05:30\",\n          \"2021-06-22 09:55:02\",\n          \"2021-11-30 09:30:47\"\n        ],\n        \"semantic_type\": \"\",\n        \"description\": \"\"\n      }\n    },\n    {\n      \"column\": \"Category\",\n      \"properties\": {\n        \"dtype\": \"category\",\n        \"num_unique_values\": 6,\n        \"samples\": [\n          \"news\",\n          \"business\",\n          \"politics\"\n        ],\n        \"semantic_type\": \"\",\n        \"description\": \"\"\n      }\n    },\n    {\n      \"column\": \"Section\",\n      \"properties\": {\n        \"dtype\": \"category\",\n        \"num_unique_values\": 37,\n        \"samples\": [\n          \"tennis\",\n          \"golf\",\n          \"media\"\n        ],\n        \"semantic_type\": \"\",\n        \"description\": \"\"\n      }\n    },\n    {\n      \"column\": \"Headline\",\n      \"properties\": {\n        \"dtype\": \"string\",\n        \"num_unique_values\": 4071,\n        \"samples\": [\n          \"Why Francis and Benedict won't answer the accusations dividing their church - CNN\",\n          \"Arizona audit funding cloaked in secrecy - CNNPolitics\",\n          \"Peng Shuai: Chinese tennis star denies making sexual assault allegation against Zhang Gaoli, but WTA concerns persist - CNN\"\n        ],\n        \"semantic_type\": \"\",\n        \"description\": \"\"\n      }\n    },\n    {\n      \"column\": \"Description\",\n      \"properties\": {\n        \"dtype\": \"string\",\n        \"num_unique_values\": 4069,\n        \"samples\": [\n          \"The Brooklyn Nets extended their winning streak to five games with a 116-103 victory over the Toronto Raptors on Sunday.\",\n          \"A Saudi Arabian-backed takeover of Newcastle United has been agreed, the Premier League and the club announced on Thursday.\",\n          \"Olympic champion sprinter Yohan Blake of Jamaica said he would rather miss the Tokyo Games than get the Covid-19 vaccine, although getting vaccinated will not be required of the athletes competing there this summer.\"\n        ],\n        \"semantic_type\": \"\",\n        \"description\": \"\"\n      }\n    },\n    {\n      \"column\": \"Keywords\",\n      \"properties\": {\n        \"dtype\": \"string\",\n        \"num_unique_values\": 4071,\n        \"samples\": [\n          \"europe, Why Francis and Benedict won't answer the accusations dividing their church - CNN\",\n          \"politics, Arizona audit funding cloaked in secrecy - CNNPolitics\",\n          \"tennis, Peng Shuai: Chinese tennis star denies making sexual assault allegation against Zhang Gaoli, but WTA concerns persist - CNN\"\n        ],\n        \"semantic_type\": \"\",\n        \"description\": \"\"\n      }\n    },\n    {\n      \"column\": \"Article text\",\n      \"properties\": {\n        \"dtype\": \"string\",\n        \"num_unique_values\": 4075,\n        \"samples\": [\n          \" (CNN)The European Union has a China problem. The bloc, for financial and strategic reasons, wants to build strong economic ties with Beijing that bolster Brussels' desire to be a serious player on the world stage as the leading light of Western values.The problem is, doing so in any serious way means turning a blind eye to China's well-documented human rights violations.For much of the past decade, the world's largest trading bloc has gone out of its way to establish an economic partnership with Beijing that doesn't conflict too aggressively with Brussels' lofty values. The EU was criticized from both in and outside the bloc when it announced last December the conclusion in principle of negotiations with the Chinese government on its \\\"Comprehensive Agreement on Investment\\\" (CAI).  According to EU Commission President Ursula von der Leyen, the agreement, if ratified, \\\"will provide unprecedented access to the Chinese market,\\\" while also committing \\\"China to ambitious principles on sustainability, transparency and non-discrimination.\\\" Any agreement like this needs to be approved by the EU's 27 member states and ratified by the European parliament.  Read MorePrecisely how bound China would be to any of the EU's redlines was an immediate cause for concern. \\\"The deal makes statements about human rights and forced labor, but there is no way of forcing China to do anything,\\\" says Samira Rafaela, a member of the EU parliament who sits on the international trade committee.Queen Elizabeth visits UK's largest warship, as it set sails for South China SeaMany of Rafaela's colleagues across the political spectrum clearly agree. Last week, the parliament voted on a motion to freeze the CAI until further notice. Ostensibly, this was in protest at China placing sanctions on five MEPs who had criticized China's treatment of Muslim Uyghurs in Xinjiang among other things.  However, in reality the sanctions were really the final straw for some who couldn't stomach Brussels striking a friendly deal with a government in Beijing that allegedly imprisons people in forced labor camps, undermines democracy in Hong Kong and is increasingly hostile in its own region.  \\\"The statement we are sending with this motion isn't simply, if China lifts the sanctions then CAI is back on the table,\\\" says Reinhard B\\u00fctikofer, chair of the parliament's delegation on China relations. \\\"If sanctions are lifted, we will look at the detail, but it's currently far from satisfactory. It's weak on forced labor, weak on sustainability, weak on dispute resolutions. These problems will still exist even if we resurrect the agreement.\\\"  Given the chances of China lifting these sanctions any time soon is virtually zero, this creates a problem for the top brass in the EU Commission, who have invested a lot of political capital in the deal.   For the EU's increasingly political executive branch, China formed a key part of its plan to become a bigger player on the global stage and become diplomatically independent of its most important ally: the United States. \\\"Strategic autonomy,\\\" as Brussels calls it, has been a priority for EU officials who are concerned about Europe's inherent vulnerabilities, be they from Russian aggression in the east, over-reliance on China for medical supplies or the risk of another president like Donald Trump pulling American troops out of Europe.  \\\"The China agreement was a big plank in that strategy,\\\" says Steven Blockmans, director of research at the Centre for European Policy Studies. \\\"If the Chinese and European parliament don't move, the EU risks losing a deal that would have cemented the idea it can make decisions to defend its own commercial interests, without having to call the White House first.\\\" Despite the European parliament's protests, the commission still thinks the deal is right for the EU. Officials who spoke with CNN explained that they understood the parliament's concerns and that the political conditions didn't exist at the moment. One official even lauded the parliament's action, saying it provided proof that \\\"economic interests will not prevent the EU from standing up for human rights.\\\" However, they also said this was a rare window of opportunity to get China committing to something on paper, and that window could run out for political reasons -- most notably after upcoming elections in France and Germany, the two member states most supportive of the deal.  It's at member state level that the apparent split between parliament and commission gets interesting. It's been known for some time that locking in some kind of formal relationship with China was a big priority for Angela Merkel as she tries to nail down her legacy. The German Chancellor will stand down after 16 years in power this autumn, as Germany holds federal elections.  Chinese Premier Li Keqiang (R) and German Chancellor Angela Merkel attend a joint news conference at the Great Hall of the People in Beijing on May 24, 2018. As things stand, it's likely that Merkel's party -- no longer with a leader who holds as much political capital as her -- will have to enter a coalition with the anti-Beijing Greens. This could significantly soften German support for the deal.  The other key sponsor of the deal was French President Emmanuel Macron, a man who also faces re-election next year. The fact that Macron's biggest rival is far-right Marine Le Pen has led some to think he might, in the coming months, cool on globalist policies.  As for the other member states, diplomats who spoke to CNN pointed out that the CAI is not a full trade deal and that there was no urgent need to rush anything through. As one diplomat put it, \\\"there is an awakening in Europe about the real character of its relationship with China and governments don't like it. This will be parked for a while is my guess.\\\" The commission remains convinced that its political capital was well spent and that member states will ultimately choose their economies over other priorities. \\\"Even if leadership changes, the economic reality in Germany and France isn't going to change, and economics has a habit of trumping other concerns,\\\" the diplomat said.   Philippe Lamberts, a senior Belgian MEP, disagrees: \\\"I think EU-China relations are going to get worse before they get better. Even if they lift their sanctions, what message does it send on European values if we agree a deal with such weak provisions on human rights, democracy and sustainability?\\\"  The EU's record on human rights, critics argue, is already patchy. While last week the European parliament did stand up to both China and Turkey -- calling for the suspension of talks with Ankara to join the bloc over its own human rights record -- campaigners say that the EU is not doing enough to uphold its own standards on human records inside or outside the bloc.  Chinese President Xi Jinping and French Emmanuel Macron (taste wine as they visit France's pavilion during the China International Import Expo in Shanghai on November 5, 2019.\\\"Trade and investment are an area where economic interests have always prevailed over respect for human rights, as much as security concerns have always prevailed in migration management,\\\" says Elena Crespi, program officer for Western Europe at the International Federation for Human Rights.  And while the parliament has a good track record on human rights, awarding its Sakharov Prize for Freedom of Thought to an imprisoned Uyghur scholar in 2019, critics believe the commission falls short in comparison.  \\\"The current commission is not sufficiently doing its job in upholding European values,\\\" says Alice Stollmeyer, executive director of Defend Democracy. \\\"Whether it's fudging on rule of law in Hungary and Poland or failing to properly speak out against atrocities elsewhere, the EU sadly seems to have a policy of appeasement for abusers.\\\" It's no secret that the EU is in a transitional phase. Those at the center of the project see a future of closer union and its officials in Brussels becoming serious players on the world stage in their own right.  If a balanced relationship with China was indeed central to this, the current mood among elected politicians across the member states will be of serious concern to the Brussels elite.  Perhaps more worrying, Blockmans points out, is whether China reassesses how much it wants a deal with the bloc. \\\"It might be that China still sees the EU as a secondary player -- a lackey to the US. If that's that case, they might decide that this is a deal worth collapsing for their own political ends.\\\"  Regardless, the point is moot while Europe's political class refuses to even look at this deal. The longer this deadlock on sanctions goes on, the greater the chance it totally collapses. And it if does, those at the top table in Brussels might regret investing so much political capital in dealing with one of the world's worst human rights offenders.  \",\n          \" (CNN)Senegal and Liverpool football star Sadio Mane has donated $693,000 (\\u00a3500,000) to help fund the construction of a hospital in his hometown of Bambali in Senegal. The village, about 400 kilometers outside the capital city Dakar, did not previously have a hospital. Mane met with Senegalese President Macky Sall earlier this month to discuss the project, which will include departments for maternity care, dental facilities and consulting rooms. Le footballeur Sadio Man\\u00e9 a \\u00e9t\\u00e9 re\\u00e7u cet apr\\u00e8s-midi par le Pr\\u00e9sident @Macky_Sall. L'attaquant de Liverpool a pr\\u00e9sent\\u00e9 au Chef de l'Etat un ambitieux projet de construction d'un h\\u00f4pital \\u00e0 Bambali et compte sur l'accompagnement de l'Etat pour le personnel m\\u00e9dical. pic.twitter.com/aPBwtY8Iz7\\u2014 Pr\\u00e9sidence S\\u00e9n\\u00e9gal (@PR_Senegal) June 10, 2021\\n\\n\\\"The Liverpool striker has presented the Head of State with an ambitious plan to build a hospital in Bambali and is counting on state support for medical personnel,\\\" the official account for the presidency tweeted in June. Mane also shared his enthusiasm for the project, tweeting: \\\"Very honored by the audience that the Head of State, His Excellency @Macky_Sall granted me. A good time to discuss football but also our social projects.\\\" Read MoreIn 2019, Mane donated close to $350,000 (\\u00a3250,000) to build a school in Bambali. The year before he also gifted 300 Liverpool shirts to his home village so that residents could wear them during the Champions League final.  READ: Samuel Eto'o is celebrated for much more than football in his hometownThe Reds forward, who recently scored goals for his national team in friendly matches against Zambia and Cape Verde, will be back in action for the start of Liverpool's pre-season on July 12. \",\n          \" (CNN)The 2021 Atlantic hurricane season, just like the 2020 season, was one for the record books -- but for different reasons. The biggest similarity was the high number of named storms. The 2021 season became only the third in history to use all of the names on the rotating seasonal list (the previous years were 2020 and 2005).We ended the season with 21 named storms, 7 hurricanes, and 4 major hurricanes (Category 3 or higher). During an average year there would be 14 named storms, 7 hurricanes, and 3 major hurricanes. This year met or exceeded each of those categories, and it was forecast to be that way. The Atlantic hurricane season runs from June 1 to November 30.There were four major hurricanes this season: Grace, Ida, Larry, and Sam. The strongest two were Ida and Sam, which both reached Category 4 strength. Grace and Larry peaked as Category 3 storms. The first half of the season was off to the races -- as the US was impacted by eight named storms: Claudette, Danny, Elsa, Fred, Henri, Ida, Mindy, and Nicholas.Read MoreThen, suddenly, the world's oceans became eerily quiet. After September 25 the Atlantic and the rest of the world would struggle to produce a named storm.That was not what meteorologists expected.\\\"The globe has had no major (Category 3+, max winds >=111 mph) hurricane/typhoon/cyclone formations since September 25. All other hurricane seasons in the satellite era (since 1966) have had at least two global major hurricane formations between September 26 - November 19,\\\" Phil Klotzbach, a research scientist at Colorado State University, said in a tweet.  Both last year and this year La Ni\\u00f1a conditions were observed during the last several weeks of the season, which typically favors late season tropical activity. 2020 saw three named storms in November (Eta, Theta, and Iota) and 2021 saw just one (Wanda) during the first few days.How this hurricane season ended marks one of the biggest differences between this year and last.Klotzbach explained that usually La Ni\\u00f1a weakens or limits vertical wind shear, but surprisingly there was quite elevated wind shear in the Caribbean in October and November -- the focal region for storms late in the season -- and that led to a quiet latter part of the 2021 Atlantic hurricane season.NOAA predicts 6th consecutive above-average hurricane seasonWhile an active season was predicted, it's impossible to know in advance exactly where each storm will go and what kind of damage it may cause. A \\\"bad\\\" season is all about perspective. Central American countries may consider this to have been a \\\"good\\\" year since not a single named storm hit any part of the region. In 2020, Central America was hit by three named storms, two of which were major hurricanes. In the US, the state of Louisiana can't seem to catch a break. In 2020, the Pelican State was impacted by five named storms: Cristobal, Laura, Marco, Delta and Zeta. This year the state was impacted by three named storms: Claudette, Ida and Nicholas.In 2020 more hurricanes made landfall in the US, but this year the storms cost over $20 billion more. Billions in damageWhile only one major hurricane made landfall across the US (Ida), a total of four named storms left behind over $1 billion in damage each: Tropical Storm Elsa, Tropical Storm Fred, Hurricane Ida, and Hurricane Nicholas.Ida alone exceeded the cost in damage of all seven billion-dollar tropical cyclones that made landfall across the US in 2020, including hurricanes like Laura, Delta, and Zeta.\\\"To date, Hurricane Ida is the costliest disaster this year -- exceeding $60 billion,\\\" according to the National Oceanic and Atmospheric Administration. \\\"Ida already ranks among the top-five most costly hurricanes on record for the US since 1980.\\\"JUST WATCHEDThis Louisiana family lost their mom in Hurricane Ida. Here's why they aren't going anywhereReplayMore Videos ...MUST WATCHThis Louisiana family lost their mom in Hurricane Ida. Here's why they aren't going anywhere 03:28Ida was the strongest Atlantic hurricane of the year to make landfall with maximum sustained winds of 150 mph when it struck near Port Fourchon, Louisiana, on August 29. It was one of only three hurricanes to ever make landfall in the state of Louisiana with winds of 150 mph, the most recent being Laura from 2020. Photos: Ida's remnants wreak havoc in the EastThe stadium for the Somerset Patriots, a minor-league baseball team in Bridgewater Township, New Jersey, is partially flooded by overflow from the Raritan River on Thursday, September 2.Hide Caption 1 of 24 Photos: Ida's remnants wreak havoc in the EastA man wades through floodwaters in Manville, New Jersey, on September 2.Hide Caption 2 of 24 Photos: Ida's remnants wreak havoc in the EastCommuters walk into a flooded subway station in New York City on September 2.Hide Caption 3 of 24 Photos: Ida's remnants wreak havoc in the EastFirst responders rescue people who were trapped by floodwaters in Mamaroneck, New York, on September 2.Hide Caption 4 of 24 Photos: Ida's remnants wreak havoc in the EastA building in Queens, New York, is damaged on September 2.Hide Caption 5 of 24 Photos: Ida's remnants wreak havoc in the EastA person walks in floodwaters in Philadelphia on September 2.Hide Caption 6 of 24 Photos: Ida's remnants wreak havoc in the EastA United Automatic Fire Sprinkler employee helps clean up on September 2 after the business flooded in Woodland Park, New Jersey.Hide Caption 7 of 24 Photos: Ida's remnants wreak havoc in the EastA motorist drives on a flooded expressway in Brooklyn, New York, early on September 2, as the remnants of Hurricane Ida swept through the area.Hide Caption 8 of 24 Photos: Ida's remnants wreak havoc in the EastPeople stand inside a subway station in New York City as water runs past their feet on Wednesday, September 1.Hide Caption 9 of 24 Photos: Ida's remnants wreak havoc in the EastMembers of the New York City Fire Department rescue a woman from her stalled car on September 1.Hide Caption 10 of 24 Photos: Ida's remnants wreak havoc in the EastMembers of the Weldon Fire Company walk through floodwaters in Dresher, Pennsylvania, on September 1.Hide Caption 11 of 24 Photos: Ida's remnants wreak havoc in the EastPeople navigate heavy rains and flooded walkways at the Billie Jean King National Tennis Center in New York City on September 1.Hide Caption 12 of 24 Photos: Ida's remnants wreak havoc in the EastWorkers clear a road from flooding in Bridgeville, Pennsylvania, on September 1.Hide Caption 13 of 24 Photos: Ida's remnants wreak havoc in the EastSergio Rossi, owner of Sergio Tailoring, covers flood-damaged clothing at his shop in Oakdale, Pennsylvania, on September 1.Hide Caption 14 of 24 Photos: Ida's remnants wreak havoc in the EastA downed tree blocks a road in Plymouth Meeting, Pennsylvania, on September 1.Hide Caption 15 of 24 Photos: Ida's remnants wreak havoc in the EastA tennis fan covers herself from rain as she attends a match at the US Open in New York on September 1. A second-round singles match between Kevin Anderson and Diego Schwartzman was halted early in the second set as water came through multiple openings of the roof on Louis Armstrong Stadium. The match was moved to the Arthur Ashe Stadium and completed just after 1 a.m. Thursday.Hide Caption 16 of 24 Photos: Ida's remnants wreak havoc in the EastMembers of the Oakdale Fire Department clear debris from their station after heavy rains in Oakdale, Pennsylvania, on September 1.Hide Caption 17 of 24 Photos: Ida's remnants wreak havoc in the EastRaindrops are illuminated by a camera flash near the US Capitol as Ida's remnants pass over Washington, DC, on September 1.Hide Caption 18 of 24 Photos: Ida's remnants wreak havoc in the EastA worker surveys damage in Annapolis, Maryland, on September 1.Hide Caption 19 of 24 Photos: Ida's remnants wreak havoc in the EastDebris litters a park in Oakdale, Pennsylvania, on September 1.Hide Caption 20 of 24 Photos: Ida's remnants wreak havoc in the EastA man walks his dog in Camp Hill, Pennsylvania, on September 1.Hide Caption 21 of 24 Photos: Ida's remnants wreak havoc in the EastA house sits above floodwaters in Glenshaw, Pennsylvania, on September 1.Hide Caption 22 of 24 Photos: Ida's remnants wreak havoc in the EastWater is pumped from the basement of a business in Oakdale, Pennsylvania, during cleanup on September 1.Hide Caption 23 of 24 Photos: Ida's remnants wreak havoc in the EastPeople walk through heavy rain in New York's Times Square on September 1.Hide Caption 24 of 24\\\"Grand Isle, Louisiana took a direct hit with 100% of its homes damaged and nearly 40% were nearly-to-completely destroyed,\\\" according to NOAA. \\\"There was heavy damage to the energy infrastructure across southern Louisiana causing widespread, long duration power outages to millions of people.\\\"In the following days the remnants of Ida moved to the Northeast and combined with a frontal system, delivering extreme rainfall rates and flash flooding, inundating streets, homes and neighborhoods.Flash flood emergencies were declared in New Jersey and New York. At least 55 people died across New York, New Jersey, Connecticut, Maryland, Pennsylvania and Virginia.This season's quirksThe strongest storm of the season didn't hit land but video was captured from inside it.Hurricane Sam, like Ida, also reached Category 4 strength with maximum sustained winds of 150 mph. Sam remained a Category 4 hurricane for 4.5 days and generated the fifth-highest accumulated cyclone energy (ACE) recorded in the satellite era.\\\"ACE is integrated metric accounting for storm intensity and duration,\\\" Klotzbach tweeted. \\\"Sam was a long-lived, intense hurricane.\\\"Fortunately, unlike Ida, Sam remained out over the open waters of the Atlantic and never made landfall.Sam's long life, of over 11 days as a hurricane, allowed a research drone to be sailed into it, and, for the first time, to transmit video from inside a major hurricane at ocean level.JUST WATCHEDWatch how Hurricane Sam was filmed like never beforeReplayMore Videos ...MUST WATCHWatch how Hurricane Sam was filmed like never before 02:27A couple of other storms made some meteorological records.Tropical Storm Ana formed in a unique area of the Atlantic Ocean. In the last 100 years, no named storm had ever developed east of Bermuda in the month of May. Tropical Storm Ana broke that record. Typically, storms during this month form over the eastern Gulf of Mexico, western Caribbean Sea and near the southeastern US coast.Another unique storm was Subtropical Storm Teresa. Reports of subtropical storms are not uncommon, especially in the 21st century, thanks to advanced technology. What is uncommon is for a storm to remain subtropical for its entire life, never transitioning to \\\"tropical\\\" status. Teresa was also extremely short-lived, at only 24 hours. Subtropical Storm Teresa formed on Friday, September 24, at 5 p.m. Atlantic Standard Time. Exactly 24 hours later, the NHC issued its final advisory as Teresa became a remnant, low-pressure system. Ida will likely be the only name on the retired list this year, despite there being three other major hurricanes, simply because of the amount of damage and fatalities caused. The letter \\\"I\\\" already has more retired names than any other letter in the alphabet. There are already 12 retired storm names that start with the letter \\\"I\\\", and Ida will likely become the 13th.\"\n        ],\n        \"semantic_type\": \"\",\n        \"description\": \"\"\n      }\n    }\n  ]\n}"
            }
          },
          "metadata": {},
          "execution_count": 4
        }
      ]
    },
    {
      "cell_type": "code",
      "source": [
        "df['Section'].value_counts()"
      ],
      "metadata": {
        "colab": {
          "base_uri": "https://localhost:8080/",
          "height": 1000
        },
        "id": "VR-1et7lkai9",
        "outputId": "a238673f-8c2d-4a60-933d-70e78189ec76"
      },
      "execution_count": 5,
      "outputs": [
        {
          "output_type": "execute_result",
          "data": {
            "text/plain": [
              "Section\n",
              "sport             1088\n",
              "europe             800\n",
              "football           618\n",
              "uk                 376\n",
              "tennis             197\n",
              "golf               173\n",
              "us                 134\n",
              "australia          114\n",
              "motorsport         100\n",
              "politics            75\n",
              "entertainment       56\n",
              "health              52\n",
              "africa              49\n",
              "opinions            45\n",
              "world               44\n",
              "perspectives        25\n",
              "business            23\n",
              "weather             18\n",
              "tech                15\n",
              "investing            9\n",
              "asia                 9\n",
              "success              9\n",
              "economy              8\n",
              "living               7\n",
              "homes                6\n",
              "china                5\n",
              "middleeast           5\n",
              "energy               3\n",
              "americas             3\n",
              "business-money       2\n",
              "media                2\n",
              "celebrities          1\n",
              "movies               1\n",
              "india                1\n",
              "intl_world           1\n",
              "business-food        1\n",
              "cars                 1\n",
              "Name: count, dtype: int64"
            ],
            "text/html": [
              "<div>\n",
              "<style scoped>\n",
              "    .dataframe tbody tr th:only-of-type {\n",
              "        vertical-align: middle;\n",
              "    }\n",
              "\n",
              "    .dataframe tbody tr th {\n",
              "        vertical-align: top;\n",
              "    }\n",
              "\n",
              "    .dataframe thead th {\n",
              "        text-align: right;\n",
              "    }\n",
              "</style>\n",
              "<table border=\"1\" class=\"dataframe\">\n",
              "  <thead>\n",
              "    <tr style=\"text-align: right;\">\n",
              "      <th></th>\n",
              "      <th>count</th>\n",
              "    </tr>\n",
              "    <tr>\n",
              "      <th>Section</th>\n",
              "      <th></th>\n",
              "    </tr>\n",
              "  </thead>\n",
              "  <tbody>\n",
              "    <tr>\n",
              "      <th>sport</th>\n",
              "      <td>1088</td>\n",
              "    </tr>\n",
              "    <tr>\n",
              "      <th>europe</th>\n",
              "      <td>800</td>\n",
              "    </tr>\n",
              "    <tr>\n",
              "      <th>football</th>\n",
              "      <td>618</td>\n",
              "    </tr>\n",
              "    <tr>\n",
              "      <th>uk</th>\n",
              "      <td>376</td>\n",
              "    </tr>\n",
              "    <tr>\n",
              "      <th>tennis</th>\n",
              "      <td>197</td>\n",
              "    </tr>\n",
              "    <tr>\n",
              "      <th>golf</th>\n",
              "      <td>173</td>\n",
              "    </tr>\n",
              "    <tr>\n",
              "      <th>us</th>\n",
              "      <td>134</td>\n",
              "    </tr>\n",
              "    <tr>\n",
              "      <th>australia</th>\n",
              "      <td>114</td>\n",
              "    </tr>\n",
              "    <tr>\n",
              "      <th>motorsport</th>\n",
              "      <td>100</td>\n",
              "    </tr>\n",
              "    <tr>\n",
              "      <th>politics</th>\n",
              "      <td>75</td>\n",
              "    </tr>\n",
              "    <tr>\n",
              "      <th>entertainment</th>\n",
              "      <td>56</td>\n",
              "    </tr>\n",
              "    <tr>\n",
              "      <th>health</th>\n",
              "      <td>52</td>\n",
              "    </tr>\n",
              "    <tr>\n",
              "      <th>africa</th>\n",
              "      <td>49</td>\n",
              "    </tr>\n",
              "    <tr>\n",
              "      <th>opinions</th>\n",
              "      <td>45</td>\n",
              "    </tr>\n",
              "    <tr>\n",
              "      <th>world</th>\n",
              "      <td>44</td>\n",
              "    </tr>\n",
              "    <tr>\n",
              "      <th>perspectives</th>\n",
              "      <td>25</td>\n",
              "    </tr>\n",
              "    <tr>\n",
              "      <th>business</th>\n",
              "      <td>23</td>\n",
              "    </tr>\n",
              "    <tr>\n",
              "      <th>weather</th>\n",
              "      <td>18</td>\n",
              "    </tr>\n",
              "    <tr>\n",
              "      <th>tech</th>\n",
              "      <td>15</td>\n",
              "    </tr>\n",
              "    <tr>\n",
              "      <th>investing</th>\n",
              "      <td>9</td>\n",
              "    </tr>\n",
              "    <tr>\n",
              "      <th>asia</th>\n",
              "      <td>9</td>\n",
              "    </tr>\n",
              "    <tr>\n",
              "      <th>success</th>\n",
              "      <td>9</td>\n",
              "    </tr>\n",
              "    <tr>\n",
              "      <th>economy</th>\n",
              "      <td>8</td>\n",
              "    </tr>\n",
              "    <tr>\n",
              "      <th>living</th>\n",
              "      <td>7</td>\n",
              "    </tr>\n",
              "    <tr>\n",
              "      <th>homes</th>\n",
              "      <td>6</td>\n",
              "    </tr>\n",
              "    <tr>\n",
              "      <th>china</th>\n",
              "      <td>5</td>\n",
              "    </tr>\n",
              "    <tr>\n",
              "      <th>middleeast</th>\n",
              "      <td>5</td>\n",
              "    </tr>\n",
              "    <tr>\n",
              "      <th>energy</th>\n",
              "      <td>3</td>\n",
              "    </tr>\n",
              "    <tr>\n",
              "      <th>americas</th>\n",
              "      <td>3</td>\n",
              "    </tr>\n",
              "    <tr>\n",
              "      <th>business-money</th>\n",
              "      <td>2</td>\n",
              "    </tr>\n",
              "    <tr>\n",
              "      <th>media</th>\n",
              "      <td>2</td>\n",
              "    </tr>\n",
              "    <tr>\n",
              "      <th>celebrities</th>\n",
              "      <td>1</td>\n",
              "    </tr>\n",
              "    <tr>\n",
              "      <th>movies</th>\n",
              "      <td>1</td>\n",
              "    </tr>\n",
              "    <tr>\n",
              "      <th>india</th>\n",
              "      <td>1</td>\n",
              "    </tr>\n",
              "    <tr>\n",
              "      <th>intl_world</th>\n",
              "      <td>1</td>\n",
              "    </tr>\n",
              "    <tr>\n",
              "      <th>business-food</th>\n",
              "      <td>1</td>\n",
              "    </tr>\n",
              "    <tr>\n",
              "      <th>cars</th>\n",
              "      <td>1</td>\n",
              "    </tr>\n",
              "  </tbody>\n",
              "</table>\n",
              "</div><br><label><b>dtype:</b> int64</label>"
            ]
          },
          "metadata": {},
          "execution_count": 5
        }
      ]
    },
    {
      "cell_type": "code",
      "source": [
        "df['Category'].value_counts()"
      ],
      "metadata": {
        "colab": {
          "base_uri": "https://localhost:8080/",
          "height": 304
        },
        "id": "NvOxTpyIkkVY",
        "outputId": "c5c5e34c-6d7c-49a2-a63d-9d73ca2b0cb4"
      },
      "execution_count": 6,
      "outputs": [
        {
          "output_type": "execute_result",
          "data": {
            "text/plain": [
              "Category\n",
              "sport            2176\n",
              "news             1611\n",
              "business          104\n",
              "politics           75\n",
              "entertainment      58\n",
              "health             52\n",
              "Name: count, dtype: int64"
            ],
            "text/html": [
              "<div>\n",
              "<style scoped>\n",
              "    .dataframe tbody tr th:only-of-type {\n",
              "        vertical-align: middle;\n",
              "    }\n",
              "\n",
              "    .dataframe tbody tr th {\n",
              "        vertical-align: top;\n",
              "    }\n",
              "\n",
              "    .dataframe thead th {\n",
              "        text-align: right;\n",
              "    }\n",
              "</style>\n",
              "<table border=\"1\" class=\"dataframe\">\n",
              "  <thead>\n",
              "    <tr style=\"text-align: right;\">\n",
              "      <th></th>\n",
              "      <th>count</th>\n",
              "    </tr>\n",
              "    <tr>\n",
              "      <th>Category</th>\n",
              "      <th></th>\n",
              "    </tr>\n",
              "  </thead>\n",
              "  <tbody>\n",
              "    <tr>\n",
              "      <th>sport</th>\n",
              "      <td>2176</td>\n",
              "    </tr>\n",
              "    <tr>\n",
              "      <th>news</th>\n",
              "      <td>1611</td>\n",
              "    </tr>\n",
              "    <tr>\n",
              "      <th>business</th>\n",
              "      <td>104</td>\n",
              "    </tr>\n",
              "    <tr>\n",
              "      <th>politics</th>\n",
              "      <td>75</td>\n",
              "    </tr>\n",
              "    <tr>\n",
              "      <th>entertainment</th>\n",
              "      <td>58</td>\n",
              "    </tr>\n",
              "    <tr>\n",
              "      <th>health</th>\n",
              "      <td>52</td>\n",
              "    </tr>\n",
              "  </tbody>\n",
              "</table>\n",
              "</div><br><label><b>dtype:</b> int64</label>"
            ]
          },
          "metadata": {},
          "execution_count": 6
        }
      ]
    },
    {
      "cell_type": "code",
      "source": [
        "df.shape"
      ],
      "metadata": {
        "colab": {
          "base_uri": "https://localhost:8080/"
        },
        "id": "DT9ElV9UkrAr",
        "outputId": "3208ac22-2300-4326-d22f-0fb842ea360a"
      },
      "execution_count": 7,
      "outputs": [
        {
          "output_type": "execute_result",
          "data": {
            "text/plain": [
              "(4076, 7)"
            ]
          },
          "metadata": {},
          "execution_count": 7
        }
      ]
    },
    {
      "cell_type": "code",
      "source": [
        "# Print the article text for index number 104\n",
        "\n",
        "print(df.loc[104, 'Article text'])"
      ],
      "metadata": {
        "colab": {
          "base_uri": "https://localhost:8080/"
        },
        "id": "9mXO3d18kt2N",
        "outputId": "c317bdd7-55e0-4667-fa7f-38c8b83138ee"
      },
      "execution_count": 8,
      "outputs": [
        {
          "output_type": "stream",
          "name": "stdout",
          "text": [
            " (Reuters)Seven-times world champion Lewis Hamilton played down his chances of starting the Formula One season with a win and said on Saturday his Mercedes lacked a 'considerable amount' of pace.The season begins in Bahrain next week and Hamilton, hoping to win back the title from Red Bull's Max Verstappen after a controversial end to the 2021 season, took the underdog position.\"At the moment, I'm sure everyone can figure that out, we are not the quickest,\" the 37-year-old Briton told reporters on the final day of pre-season testing at the Sakhir circuit.\"I think Ferrari look to be the quickest and perhaps Red Bull and then maybe us or McLaren. We're currently not at the top.\"Asked whether he had any concerns about his ability to fight for the championship, Hamilton said it was too early and expressed confidence in his team's proven ability to work through any problems.F1 world champion Max Verstappen signs new deal with Red Bull Racing until 2028Read MoreMercedes have won the last eight constructors' championships.Hamilton said the new car had shown decent reliability and the team had got through their test programme but it was clear there remained much to do.\"At the moment I don't think we'll be competing for wins,\" he said.\"There is potential within our car to get us there, we've just got to learn to be able to extract it... we have some hurdles to overcome.\"Next week we'll get a much better showing of our pace but I think people will be surprised, maybe. People keep talking about (whether) we're talking ourselves down or not but it's a bit different this year.\"Mercedes's rivals have taken such declarations with some scepticism in the past.Last year Mercedes had a troubled pre-season, completing the fewest laps of any team, but Hamilton still won the opening race in Bahrain.Max Verstappen wins first F1 world title after dramatic Abu Dhabi Grand Prix endingIn 2019, Mercedes had looked up to half a second off Ferrari's pace in testing and then finished one-two in Melbourne.This season has radically revised rules and Hamilton, the sport's most successful driver of all time with a record 103 wins, said it felt different.\"I think we have far bigger challenges this time,\" he said. \"It will take a little bit longer. From what I'm told, we have a considerable amount of pace to find.\"AlphaTauri's Pierre Gasly, who followed the Mercedes closely on Saturday and observed Hamilton's struggles with the car, was prepared to agree.\"I think they do have some work to be fighting right at the top, but it's only testing,\" said the Frenchman.\n"
          ]
        }
      ]
    },
    {
      "cell_type": "code",
      "source": [
        "df.isnull().sum()"
      ],
      "metadata": {
        "colab": {
          "base_uri": "https://localhost:8080/",
          "height": 304
        },
        "id": "1gFDbo_Skyho",
        "outputId": "76314b8a-b1ec-4133-9b22-5c390914d2cc"
      },
      "execution_count": 9,
      "outputs": [
        {
          "output_type": "execute_result",
          "data": {
            "text/plain": [
              "Date published    0\n",
              "Category          0\n",
              "Section           0\n",
              "Headline          0\n",
              "Description       0\n",
              "Keywords          0\n",
              "Article text      0\n",
              "dtype: int64"
            ],
            "text/html": [
              "<div>\n",
              "<style scoped>\n",
              "    .dataframe tbody tr th:only-of-type {\n",
              "        vertical-align: middle;\n",
              "    }\n",
              "\n",
              "    .dataframe tbody tr th {\n",
              "        vertical-align: top;\n",
              "    }\n",
              "\n",
              "    .dataframe thead th {\n",
              "        text-align: right;\n",
              "    }\n",
              "</style>\n",
              "<table border=\"1\" class=\"dataframe\">\n",
              "  <thead>\n",
              "    <tr style=\"text-align: right;\">\n",
              "      <th></th>\n",
              "      <th>0</th>\n",
              "    </tr>\n",
              "  </thead>\n",
              "  <tbody>\n",
              "    <tr>\n",
              "      <th>Date published</th>\n",
              "      <td>0</td>\n",
              "    </tr>\n",
              "    <tr>\n",
              "      <th>Category</th>\n",
              "      <td>0</td>\n",
              "    </tr>\n",
              "    <tr>\n",
              "      <th>Section</th>\n",
              "      <td>0</td>\n",
              "    </tr>\n",
              "    <tr>\n",
              "      <th>Headline</th>\n",
              "      <td>0</td>\n",
              "    </tr>\n",
              "    <tr>\n",
              "      <th>Description</th>\n",
              "      <td>0</td>\n",
              "    </tr>\n",
              "    <tr>\n",
              "      <th>Keywords</th>\n",
              "      <td>0</td>\n",
              "    </tr>\n",
              "    <tr>\n",
              "      <th>Article text</th>\n",
              "      <td>0</td>\n",
              "    </tr>\n",
              "  </tbody>\n",
              "</table>\n",
              "</div><br><label><b>dtype:</b> int64</label>"
            ]
          },
          "metadata": {},
          "execution_count": 9
        }
      ]
    },
    {
      "cell_type": "code",
      "source": [
        "#EDA"
      ],
      "metadata": {
        "id": "vuK5CMk_k4i9"
      },
      "execution_count": 10,
      "outputs": []
    },
    {
      "cell_type": "code",
      "source": [
        "import seaborn as sns"
      ],
      "metadata": {
        "id": "oLdwQOlAlJxK"
      },
      "execution_count": 11,
      "outputs": []
    },
    {
      "cell_type": "code",
      "source": [
        "sns.countplot(df['Category'], palette='rainbow')"
      ],
      "metadata": {
        "colab": {
          "base_uri": "https://localhost:8080/",
          "height": 553
        },
        "id": "H96D3MVXlOQL",
        "outputId": "577aae0f-f344-48fa-f320-4dd1aef0132d"
      },
      "execution_count": 12,
      "outputs": [
        {
          "output_type": "stream",
          "name": "stderr",
          "text": [
            "/tmp/ipython-input-1042749266.py:1: FutureWarning: \n",
            "\n",
            "Passing `palette` without assigning `hue` is deprecated and will be removed in v0.14.0. Assign the `y` variable to `hue` and set `legend=False` for the same effect.\n",
            "\n",
            "  sns.countplot(df['Category'], palette='rainbow')\n"
          ]
        },
        {
          "output_type": "execute_result",
          "data": {
            "text/plain": [
              "<Axes: xlabel='count', ylabel='Category'>"
            ]
          },
          "metadata": {},
          "execution_count": 12
        },
        {
          "output_type": "display_data",
          "data": {
            "text/plain": [
              "<Figure size 640x480 with 1 Axes>"
            ],
            "image/png": "[encoded data removed]"
          },
          "metadata": {}
        }
      ]
    },
    {
      "cell_type": "code",
      "source": [
        "# Data Preprocessing\n",
        "\n",
        "# 1. Convert the text to lowercase\n",
        "# 2. Remove special characters\n",
        "# 3. Remove extra whitespaces\n",
        "# 4. Split text into seperate words\n",
        "# 5. Remove stopwords\n",
        "# 6. Apply Porter Stemmer on every word (Lemmatization and Stemming)\n",
        "\n",
        "\n"
      ],
      "metadata": {
        "id": "wLI70k_3lcGE"
      },
      "execution_count": 13,
      "outputs": []
    },
    {
      "cell_type": "code",
      "source": [
        "## Problem Definition\n",
        "# A growing e-commerce platform specializing in electronic gadgets collects customer feedback from product reviews, surveys, and social media. With a 200% increase in their customer base over three years and a recent 25% spike in feedback volume, their manual review process is no longer sustainable.\n",
        "\n",
        "# To address this, the company aims to implement an AI-driven solution to automatically classify customer sentiments (positive, negative, or neutral).\n",
        "\n",
        "# As a Data Scientist, your task is to analyze the provided customer reviews—along with their labeled sentiments—and build a predictive model for sentiment classification."
      ],
      "metadata": {
        "id": "Hknc52Gblqnz"
      },
      "execution_count": 14,
      "outputs": []
    },
    {
      "cell_type": "code",
      "source": [
        "## text preprocessing"
      ],
      "metadata": {
        "id": "1IVo0wbFgBiI"
      },
      "execution_count": 15,
      "outputs": []
    },
    {
      "cell_type": "code",
      "source": [
        "# 1. remove special characters"
      ],
      "metadata": {
        "id": "U6_l5AW7gRX1"
      },
      "execution_count": 16,
      "outputs": []
    },
    {
      "cell_type": "code",
      "source": [
        "import re\n",
        "import nltk\n",
        "from nltk.corpus import stopwords\n",
        "from nltk.stem import PorterStemmer, WordNetLemmatizer\n",
        "from nltk.corpus import wordnet\n",
        "\n",
        "nltk.download('stopwords')\n",
        "nltk.download('wordnet')\n",
        "nltk.download('omw-1.4')\n",
        "\n",
        "stop_words = set(stopwords.words('english'))\n",
        "stemmer = PorterStemmer()\n",
        "lemmatizer = WordNetLemmatizer()\n",
        "\n",
        "def preprocess_text(text):\n",
        "    # 1. Convert text to lowercase\n",
        "    text = text.lower()\n",
        "\n",
        "    # 2. Remove special characters\n",
        "    text = re.sub(r'[^a-z\\s]', '', text)\n",
        "\n",
        "    # 3. Remove extra whitespaces\n",
        "    text = re.sub(r'\\s+', ' ', text).strip()\n",
        "\n",
        "    # 4. Split text into separate words\n",
        "    words = text.split()\n",
        "\n",
        "    # 5. Remove stopwords\n",
        "    words = [word for word in words if word not in stop_words]\n",
        "\n",
        "    # 6. Apply Lemmatization and Stemming\n",
        "    # First, lemmatize words\n",
        "    words = [lemmatizer.lemmatize(word, wordnet.VERB) for word in words] # Lemmatize as verbs\n",
        "    words = [lemmatizer.lemmatize(word) for word in words] # Lemmatize as nouns (default)\n",
        "\n",
        "\n",
        "    # Then, apply stemming\n",
        "    words = [stemmer.stem(word) for word in words]\n",
        "\n",
        "    # Return processed text\n",
        "    return ' '.join(words)"
      ],
      "metadata": {
        "id": "z-6cCrCagdUN",
        "colab": {
          "base_uri": "https://localhost:8080/"
        },
        "outputId": "f6230601-ea91-4c44-f0bd-893cb00b19f2"
      },
      "execution_count": 17,
      "outputs": [
        {
          "output_type": "stream",
          "name": "stderr",
          "text": [
            "[nltk_data] Downloading package stopwords to /root/nltk_data...\n",
            "[nltk_data]   Package stopwords is already up-to-date!\n",
            "[nltk_data] Downloading package wordnet to /root/nltk_data...\n",
            "[nltk_data]   Package wordnet is already up-to-date!\n",
            "[nltk_data] Downloading package omw-1.4 to /root/nltk_data...\n",
            "[nltk_data]   Package omw-1.4 is already up-to-date!\n"
          ]
        }
      ]
    },
    {
      "cell_type": "code",
      "source": [
        "import re\n",
        "import nltk\n",
        "from nltk.corpus import stopwords\n",
        "from nltk.stem import PorterStemmer\n",
        "\n",
        "nltk.download('stopwords')\n",
        "stop_words = set(stopwords.words('english'))\n",
        "stemmer = PorterStemmer()"
      ],
      "metadata": {
        "colab": {
          "base_uri": "https://localhost:8080/"
        },
        "id": "rLwKelVsiKu1",
        "outputId": "2cf9c77f-4f83-4daf-d36b-eb0b46d832d5"
      },
      "execution_count": 18,
      "outputs": [
        {
          "output_type": "stream",
          "name": "stderr",
          "text": [
            "[nltk_data] Downloading package stopwords to /root/nltk_data...\n",
            "[nltk_data]   Package stopwords is already up-to-date!\n"
          ]
        }
      ]
    },
    {
      "cell_type": "code",
      "source": [
        "# Apply preprocessing on Article text column (replace 'text_column' with your actual column name)\n",
        "df['processed_text'] = df['Article text'].astype(str).apply(preprocess_text)\n",
        "\n",
        "# Show processed data\n",
        "print(\"\\nProcessed Text Preview:\")\n",
        "print(df[['Article text', 'processed_text']].head())\n",
        "\n",
        "# Save processed dataset\n",
        "df.to_csv('processed_reviews.csv', index=False)\n",
        "print(\"\\nPreprocessed data saved as 'processed_reviews.csv'\")"
      ],
      "metadata": {
        "colab": {
          "base_uri": "https://localhost:8080/"
        },
        "id": "2cdXYXlGhPwk",
        "outputId": "8eb960b4-24ef-478b-d5d8-0cd9c09d9560"
      },
      "execution_count": 19,
      "outputs": [
        {
          "output_type": "stream",
          "name": "stdout",
          "text": [
            "\n",
            "Processed Text Preview:\n",
            "                                        Article text  \\\n",
            "0   (CNN)Right now, there's a shortage of truck d...   \n",
            "1   (CNN)Working in a factory or warehouse can me...   \n",
            "2   (CNN)In a Hong Kong warehouse, a swarm of aut...   \n",
            "3  New York (CNN Business)For many years, the wor...   \n",
            "4  The European Union formally approved on Tuesda...   \n",
            "\n",
            "                                      processed_text  \n",
            "0  cnnright there shortag truck driver u worldwid...  \n",
            "1  cnnwork factori warehous mean task repetit lea...  \n",
            "2  cnnin hong kong warehous swarm autonom robot w...  \n",
            "3  new york cnn businessfor mani year world popul...  \n",
            "4  european union formal approv tuesday new barra...  \n",
            "\n",
            "Preprocessed data saved as 'processed_reviews.csv'\n"
          ]
        }
      ]
    },
    {
      "cell_type": "code",
      "source": [],
      "metadata": {
        "id": "5feb2YPehmXK"
      },
      "execution_count": 19,
      "outputs": []
    },
    {
      "cell_type": "code",
      "metadata": {
        "id": "a552cb0d"
      },
      "source": [],
      "execution_count": 19,
      "outputs": []
    },
    {
      "cell_type": "code",
      "metadata": {
        "colab": {
          "base_uri": "https://localhost:8080/"
        },
        "id": "b4765a75",
        "outputId": "857934a5-7afd-4e6e-91cb-e2fa19eaed76"
      },
      "source": [
        "from sklearn.feature_extraction.text import TfidfVectorizer\n",
        "\n",
        "# Initialize TF-IDF Vectorizer\n",
        "# You can adjust parameters like max_features, min_df, max_df, ngram_range\n",
        "tfidf_vectorizer = TfidfVectorizer(max_features=5000)\n",
        "\n",
        "# Fit and transform the processed text data\n",
        "tfidf_matrix = tfidf_vectorizer.fit_transform(df['processed_text'])\n",
        "\n",
        "# Display the shape of the TF-IDF matrix\n",
        "print(\"Shape of TF-IDF matrix:\", tfidf_matrix.shape)\n",
        "\n",
        "# You can also get the feature names (words)\n",
        "# print(\"\\nFeatures (words):\", tfidf_vectorizer.get_feature_names_out())"
      ],
      "execution_count": 20,
      "outputs": [
        {
          "output_type": "stream",
          "name": "stdout",
          "text": [
            "Shape of TF-IDF matrix: (4076, 5000)\n"
          ]
        }
      ]
    },
    {
      "cell_type": "code",
      "metadata": {
        "colab": {
          "base_uri": "https://localhost:8080/"
        },
        "id": "f94a08b8",
        "outputId": "4d8006de-ee74-4b49-c6a3-09444247e39c"
      },
      "source": [
        "from sklearn.feature_extraction.text import CountVectorizer\n",
        "\n",
        "# Initialize CountVectorizer (Bag-of-Words)\n",
        "# You can adjust parameters like max_features, min_df, max_df, ngram_range\n",
        "bow_vectorizer = CountVectorizer(max_features=5000)\n",
        "\n",
        "# Fit and transform the processed text data\n",
        "bow_matrix = bow_vectorizer.fit_transform(df['processed_text'])\n",
        "\n",
        "# Display the shape of the Bag-of-Words matrix\n",
        "print(\"Shape of Bag-of-Words matrix:\", bow_matrix.shape)\n",
        "\n",
        "# You can also get the feature names (words)\n",
        "# print(\"\\nFeatures (words):\", bow_vectorizer.get_feature_names_out())"
      ],
      "execution_count": 21,
      "outputs": [
        {
          "output_type": "stream",
          "name": "stdout",
          "text": [
            "Shape of Bag-of-Words matrix: (4076, 5000)\n"
          ]
        }
      ]
    },
    {
      "cell_type": "code",
      "source": [],
      "metadata": {
        "id": "PXNNnhbKjbpU"
      },
      "execution_count": 21,
      "outputs": []
    },
    {
      "cell_type": "code",
      "metadata": {
        "colab": {
          "base_uri": "https://localhost:8080/"
        },
        "id": "65d9a360",
        "outputId": "881c477d-0b11-4e19-8d2b-0f4cae2638ac"
      },
      "source": [
        "# Install gensim if you haven't already\n",
        "!pip install gensim"
      ],
      "execution_count": 22,
      "outputs": [
        {
          "output_type": "stream",
          "name": "stdout",
          "text": [
            "Requirement already satisfied: gensim in /usr/local/lib/python3.12/dist-packages (4.3.3)\n",
            "Requirement already satisfied: numpy<2.0,>=1.18.5 in /usr/local/lib/python3.12/dist-packages (from gensim) (1.26.4)\n",
            "Requirement already satisfied: scipy<1.14.0,>=1.7.0 in /usr/local/lib/python3.12/dist-packages (from gensim) (1.13.1)\n",
            "Requirement already satisfied: smart-open>=1.8.1 in /usr/local/lib/python3.12/dist-packages (from gensim) (7.3.0.post1)\n",
            "Requirement already satisfied: wrapt in /usr/local/lib/python3.12/dist-packages (from smart-open>=1.8.1->gensim) (1.17.3)\n"
          ]
        }
      ]
    },
    {
      "cell_type": "code",
      "metadata": {
        "colab": {
          "base_uri": "https://localhost:8080/"
        },
        "id": "5acf1b26",
        "outputId": "e0e6a752-6e63-4d0b-f9ca-3dabcde63dc0"
      },
      "source": [
        "from gensim.models import Word2Vec\n",
        "\n",
        "# Tokenize the processed text into a list of lists of words\n",
        "tokenized_text = [text.split() for text in df['processed_text']]\n",
        "\n",
        "\n",
        "\n",
        "word2vec_model = Word2Vec(sentences=tokenized_text, vector_size=100, window=5, min_count=1, workers=4, sg=0)\n",
        "\n",
        "# You can explore the model, for example, find the most similar words\n",
        "# print(\"Most similar words to 'sport':\", word2vec_model.wv.most_similar('sport'))\n",
        "\n",
        "# You can also get the vector for a specific word\n",
        "# print(\"Vector for 'sport':\", word2vec_model.wv['sport'])\n",
        "\n",
        "print(\"Word2Vec model training complete.\")"
      ],
      "execution_count": 23,
      "outputs": [
        {
          "output_type": "stream",
          "name": "stdout",
          "text": [
            "Word2Vec model training complete.\n"
          ]
        }
      ]
    },
    {
      "cell_type": "code",
      "source": [],
      "metadata": {
        "id": "JFTrwz3QkWFZ"
      },
      "execution_count": 23,
      "outputs": []
    },
    {
      "cell_type": "markdown",
      "metadata": {
        "id": "b7aa1a13"
      },
      "source": [
        "# Task\n",
        "Perform GloVe text embedding on the processed text data."
      ]
    },
    {
      "cell_type": "markdown",
      "metadata": {
        "id": "1da604c8"
      },
      "source": [
        "## Download pre-trained glove vectors\n",
        "\n",
        "### Subtask:\n",
        "Download a pre-trained GloVe model (e.g., from the Stanford website).\n"
      ]
    },
    {
      "cell_type": "markdown",
      "metadata": {
        "id": "08816a3a"
      },
      "source": [
        "**Reasoning**:\n",
        "Download the GloVe pre-trained vectors file from the Stanford website using `requests`.\n",
        "\n"
      ]
    },
    {
      "cell_type": "code",
      "metadata": {
        "colab": {
          "base_uri": "https://localhost:8080/"
        },
        "id": "b708f2b4",
        "outputId": "2cf8ecc8-fe2d-4795-f67e-b7ab77f81257"
      },
      "source": [
        "import requests\n",
        "import os\n",
        "\n",
        "# URL of the GloVe pre-trained vectors file (e.g., 6B.50d.txt)\n",
        "# You can find other options at: https://nlp.stanford.edu/projects/glove/\n",
        "glove_url = \"https://nlp.stanford.edu/data/glove.6B.zip\"\n",
        "glove_zip_file = \"glove.6B.zip\"\n",
        "glove_dir = \"glove.6B\"\n",
        "\n",
        "# Download the zip file\n",
        "print(f\"Downloading {glove_url}...\")\n",
        "response = requests.get(glove_url, stream=True)\n",
        "\n",
        "if response.status_code == 200:\n",
        "    with open(glove_zip_file, 'wb') as f:\n",
        "        for chunk in response.iter_content(chunk_size=8192):\n",
        "            f.write(chunk)\n",
        "    print(\"Download complete.\")\n",
        "\n",
        "    # Unzip the file\n",
        "    import zipfile\n",
        "    with zipfile.ZipFile(glove_zip_file, 'r') as zip_ref:\n",
        "        zip_ref.extractall(glove_dir)\n",
        "    print(f\"Extracted to {glove_dir}\")\n",
        "\n",
        "    # Remove the downloaded zip file\n",
        "    os.remove(glove_zip_file)\n",
        "    print(f\"Removed {glove_zip_file}\")\n",
        "else:\n",
        "    print(f\"Failed to download. Status code: {response.status_code}\")\n"
      ],
      "execution_count": 24,
      "outputs": [
        {
          "output_type": "stream",
          "name": "stdout",
          "text": [
            "Downloading https://nlp.stanford.edu/data/glove.6B.zip...\n",
            "Download complete.\n",
            "Extracted to glove.6B\n",
            "Removed glove.6B.zip\n"
          ]
        }
      ]
    },
    {
      "cell_type": "markdown",
      "metadata": {
        "id": "2c89c57d"
      },
      "source": [
        "## Load glove vectors\n",
        "\n",
        "### Subtask:\n",
        "Load the downloaded GloVe vectors into a dictionary or a similar data structure.\n"
      ]
    },
    {
      "cell_type": "markdown",
      "metadata": {
        "id": "c958805d"
      },
      "source": [
        "**Reasoning**:\n",
        "Load the downloaded GloVe vectors into a dictionary as instructed.\n",
        "\n"
      ]
    },
    {
      "cell_type": "code",
      "metadata": {
        "colab": {
          "base_uri": "https://localhost:8080/"
        },
        "id": "8eab71e9",
        "outputId": "d2ba5eee-98ae-4767-eeb4-324356f23bdf"
      },
      "source": [
        "import numpy as np\n",
        "\n",
        "# Initialize an empty dictionary to store the GloVe word vectors\n",
        "glove_vectors = {}\n",
        "\n",
        "# Specify the path to the GloVe file\n",
        "glove_file_path = 'glove.6B/glove.6B.50d.txt' # Using the 50d vectors as an example\n",
        "\n",
        "# Open the GloVe file for reading\n",
        "with open(glove_file_path, 'r', encoding='utf-8') as f:\n",
        "    # Iterate through each line of the file\n",
        "    for line in f:\n",
        "        # Split the line into the word and its corresponding vector values\n",
        "        values = line.split()\n",
        "        word = values[0]\n",
        "        vector = np.asarray(values[1:], dtype='float32')\n",
        "        # Store the word as the key and the vector as the value in the dictionary\n",
        "        glove_vectors[word] = vector\n",
        "\n",
        "print(f\"Loaded {len(glove_vectors)} GloVe vectors.\")"
      ],
      "execution_count": 25,
      "outputs": [
        {
          "output_type": "stream",
          "name": "stdout",
          "text": [
            "Loaded 400000 GloVe vectors.\n"
          ]
        }
      ]
    },
    {
      "cell_type": "markdown",
      "metadata": {
        "id": "b772749a"
      },
      "source": [
        "## Create document vectors\n",
        "\n",
        "### Subtask:\n",
        "For each document in your processed text, create a document vector by averaging the word vectors of the words in the document. Handle words that are not in the GloVe vocabulary.\n"
      ]
    },
    {
      "cell_type": "markdown",
      "metadata": {
        "id": "d5d2c556"
      },
      "source": [
        "**Reasoning**:\n",
        "Iterate through the processed text, split each document into words, find the GloVe vector for each word, average the word vectors to create a document vector, handle words not in the vocabulary by using a zero vector, and finally convert the list of document vectors into a NumPy array.\n",
        "\n"
      ]
    },
    {
      "cell_type": "code",
      "metadata": {
        "colab": {
          "base_uri": "https://localhost:8080/"
        },
        "id": "f50cfcf4",
        "outputId": "25d0c12a-c9cb-4951-b502-440fca32f4e9"
      },
      "source": [
        "import numpy as np\n",
        "\n",
        "# Initialize an empty list to store the document vectors\n",
        "document_vectors = []\n",
        "\n",
        "# Determine the dimension of the GloVe vectors\n",
        "# Assuming all vectors have the same dimension, get the dimension from the first vector\n",
        "if glove_vectors:\n",
        "    vector_dimension = len(next(iter(glove_vectors.values())))\n",
        "else:\n",
        "    vector_dimension = 0 # Handle case where glove_vectors is empty\n",
        "\n",
        "# Iterate through each processed text document\n",
        "for text in df['processed_text']:\n",
        "    # Split the text into individual words\n",
        "    words = text.split()\n",
        "\n",
        "    # Initialize an empty list to store the vectors of words present in the GloVe vocabulary\n",
        "    word_vectors_in_doc = []\n",
        "\n",
        "    # Iterate through the words of the document\n",
        "    for word in words:\n",
        "        # Check if the word exists in the GloVe vocabulary\n",
        "        if word in glove_vectors:\n",
        "            # If found, append its vector to the list\n",
        "            word_vectors_in_doc.append(glove_vectors[word])\n",
        "\n",
        "    # Calculate the document vector\n",
        "    if word_vectors_in_doc:\n",
        "        # If there are word vectors, calculate their mean\n",
        "        doc_vector = np.mean(word_vectors_in_doc, axis=0)\n",
        "    else:\n",
        "        # If no words were found in the GloVe vocabulary, create a zero vector\n",
        "        doc_vector = np.zeros(vector_dimension)\n",
        "\n",
        "    # Append the calculated document vector to the list\n",
        "    document_vectors.append(doc_vector)\n",
        "\n",
        "# Convert the list of document vectors into a NumPy array\n",
        "glove_document_vectors = np.array(document_vectors)\n",
        "\n",
        "# Print the shape of the resulting document vectors array\n",
        "print(\"Shape of GloVe document vectors array:\", glove_document_vectors.shape)"
      ],
      "execution_count": 26,
      "outputs": [
        {
          "output_type": "stream",
          "name": "stdout",
          "text": [
            "Shape of GloVe document vectors array: (4076, 50)\n"
          ]
        }
      ]
    },
    {
      "cell_type": "markdown",
      "metadata": {
        "id": "64adb555"
      },
      "source": [
        "## Prepare data for modeling\n",
        "\n",
        "### Subtask:\n",
        "Split the document vectors and the target variable into training and testing sets.\n"
      ]
    },
    {
      "cell_type": "markdown",
      "metadata": {
        "id": "270a65df"
      },
      "source": [
        "**Reasoning**:\n",
        "Split the document vectors and the target variable into training and testing sets using train_test_split.\n",
        "\n"
      ]
    },
    {
      "cell_type": "code",
      "metadata": {
        "colab": {
          "base_uri": "https://localhost:8080/"
        },
        "id": "863b46f4",
        "outputId": "643c1fa9-926a-4b23-cef7-22d3347f7298"
      },
      "source": [
        "from sklearn.model_selection import train_test_split\n",
        "\n",
        "# Define the feature matrix X as the glove_document_vectors array\n",
        "X = glove_document_vectors\n",
        "\n",
        "# Define the target variable y as the 'Category' column from the DataFrame df\n",
        "y = df['Category']\n",
        "\n",
        "# Use the train_test_split function to split X and y into training and testing sets\n",
        "X_train, X_test, y_train, y_test = train_test_split(X, y, test_size=0.25, random_state=42)\n",
        "\n",
        "# Print the shapes of the resulting training and testing sets to verify the split\n",
        "print(\"Shape of X_train:\", X_train.shape)\n",
        "print(\"Shape of X_test:\", X_test.shape)\n",
        "print(\"Shape of y_train:\", y_train.shape)\n",
        "print(\"Shape of y_test:\", y_test.shape)"
      ],
      "execution_count": 27,
      "outputs": [
        {
          "output_type": "stream",
          "name": "stdout",
          "text": [
            "Shape of X_train: (3057, 50)\n",
            "Shape of X_test: (1019, 50)\n",
            "Shape of y_train: (3057,)\n",
            "Shape of y_test: (1019,)\n"
          ]
        }
      ]
    },
    {
      "cell_type": "markdown",
      "metadata": {
        "id": "aa5d676f"
      },
      "source": [
        "## Train a classification model\n",
        "\n",
        "### Subtask:\n",
        "Train a classification model using the GloVe document vectors as features.\n"
      ]
    },
    {
      "cell_type": "markdown",
      "metadata": {
        "id": "012efd81"
      },
      "source": [
        "**Reasoning**:\n",
        "Import LogisticRegression and train the model on the training data.\n",
        "\n"
      ]
    },
    {
      "cell_type": "code",
      "metadata": {
        "colab": {
          "base_uri": "https://localhost:8080/"
        },
        "id": "64b0683c",
        "outputId": "bf16ff82-26db-4dfe-e8e9-b93749bd1909"
      },
      "source": [
        "from sklearn.linear_model import LogisticRegression\n",
        "\n",
        "# Initialize the Logistic Regression model\n",
        "model = LogisticRegression(max_iter=1000) # Increased max_iter for convergence\n",
        "\n",
        "# Train the model using the training data\n",
        "model.fit(X_train, y_train)\n",
        "\n",
        "print(\"Logistic Regression model training complete.\")"
      ],
      "execution_count": 28,
      "outputs": [
        {
          "output_type": "stream",
          "name": "stdout",
          "text": [
            "Logistic Regression model training complete.\n"
          ]
        }
      ]
    },
    {
      "cell_type": "markdown",
      "metadata": {
        "id": "b7fdb5f4"
      },
      "source": [
        "## Evaluate the model\n",
        "\n",
        "### Subtask:\n",
        "Evaluate the performance of the trained model.\n"
      ]
    },
    {
      "cell_type": "markdown",
      "metadata": {
        "id": "10cdea7c"
      },
      "source": [
        "**Reasoning**:\n",
        "Evaluate the performance of the trained model using accuracy, precision, recall, and F1-score on the test set.\n",
        "\n"
      ]
    },
    {
      "cell_type": "code",
      "metadata": {
        "colab": {
          "base_uri": "https://localhost:8080/"
        },
        "id": "d4e01c1e",
        "outputId": "fe1650c7-1939-42b5-ce4e-caff4f4669a8"
      },
      "source": [
        "from sklearn.metrics import accuracy_score, precision_score, recall_score, f1_score\n",
        "\n",
        "# Make predictions on the test set\n",
        "y_pred = model.predict(X_test)\n",
        "\n",
        "# Calculate evaluation metrics\n",
        "accuracy = accuracy_score(y_test, y_pred)\n",
        "precision = precision_score(y_test, y_pred, average='weighted')\n",
        "recall = recall_score(y_test, y_pred, average='weighted')\n",
        "f1 = f1_score(y_test, y_pred, average='weighted')\n",
        "\n",
        "# Print the evaluation metrics\n",
        "print(f\"Accuracy: {accuracy:.4f}\")\n",
        "print(f\"Precision: {precision:.4f}\")\n",
        "print(f\"Recall: {recall:.4f}\")\n",
        "print(f\"F1-score: {f1:.4f}\")"
      ],
      "execution_count": 29,
      "outputs": [
        {
          "output_type": "stream",
          "name": "stdout",
          "text": [
            "Accuracy: 0.9480\n",
            "Precision: 0.9516\n",
            "Recall: 0.9480\n",
            "F1-score: 0.9426\n"
          ]
        }
      ]
    }
  ]
}